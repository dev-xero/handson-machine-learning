{
 "cells": [
  {
   "cell_type": "markdown",
   "id": "81aeddb3",
   "metadata": {},
   "source": [
    "### Download and Extract Datasets"
   ]
  },
  {
   "cell_type": "code",
   "execution_count": 1,
   "id": "63596695",
   "metadata": {},
   "outputs": [],
   "source": [
    "from utils.data import download_housing_data\n",
    "\n",
    "BASE_URL = \"https://raw.githubusercontent.com/ageron/handson-ml2/master/\"\n",
    "HOUSING_URL = BASE_URL + \"datasets/housing/housing.tgz\"\n",
    "\n",
    "download_housing_data(housing_url=HOUSING_URL)"
   ]
  }
 ],
 "metadata": {
  "kernelspec": {
   "display_name": "Python 3 (ipykernel)",
   "language": "python",
   "name": "python3"
  },
  "language_info": {
   "codemirror_mode": {
    "name": "ipython",
    "version": 3
   },
   "file_extension": ".py",
   "mimetype": "text/x-python",
   "name": "python",
   "nbconvert_exporter": "python",
   "pygments_lexer": "ipython3",
   "version": "3.12.7"
  }
 },
 "nbformat": 4,
 "nbformat_minor": 5
}
